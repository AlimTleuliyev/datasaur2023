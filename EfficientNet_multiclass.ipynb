{
 "cells": [
  {
   "cell_type": "code",
   "execution_count": 1,
   "id": "7ca6fad8",
   "metadata": {
    "execution": {
     "iopub.execute_input": "2023-10-15T01:17:51.074015Z",
     "iopub.status.busy": "2023-10-15T01:17:51.073681Z",
     "iopub.status.idle": "2023-10-15T01:17:56.364666Z",
     "shell.execute_reply": "2023-10-15T01:17:56.363679Z"
    },
    "id": "QiewnyJqmdEc",
    "papermill": {
     "duration": 5.297903,
     "end_time": "2023-10-15T01:17:56.366949",
     "exception": false,
     "start_time": "2023-10-15T01:17:51.069046",
     "status": "completed"
    },
    "tags": []
   },
   "outputs": [
    {
     "name": "stderr",
     "output_type": "stream",
     "text": [
      "/opt/conda/lib/python3.10/site-packages/scipy/__init__.py:146: UserWarning: A NumPy version >=1.16.5 and <1.23.0 is required for this version of SciPy (detected version 1.23.5\n",
      "  warnings.warn(f\"A NumPy version >={np_minversion} and <{np_maxversion}\"\n"
     ]
    }
   ],
   "source": [
    "import torch\n",
    "import torch.nn as nn\n",
    "import torch.optim as optim\n",
    "from torch.utils.data import DataLoader\n",
    "from torchvision import datasets, transforms, models\n",
    "from sklearn.metrics import f1_score, accuracy_score\n",
    "from tqdm import tqdm\n",
    "import random\n",
    "import numpy as np"
   ]
  },
  {
   "cell_type": "code",
   "execution_count": 2,
   "id": "cd20049b",
   "metadata": {
    "execution": {
     "iopub.execute_input": "2023-10-15T01:17:56.373979Z",
     "iopub.status.busy": "2023-10-15T01:17:56.373373Z",
     "iopub.status.idle": "2023-10-15T01:17:56.451940Z",
     "shell.execute_reply": "2023-10-15T01:17:56.450907Z"
    },
    "id": "5nx_tPmnErP7",
    "papermill": {
     "duration": 0.084292,
     "end_time": "2023-10-15T01:17:56.454141",
     "exception": false,
     "start_time": "2023-10-15T01:17:56.369849",
     "status": "completed"
    },
    "tags": []
   },
   "outputs": [],
   "source": [
    "def set_seed(seed_value=42):\n",
    "    \"\"\"Set seed for reproducibility.\"\"\"\n",
    "    random.seed(seed_value)\n",
    "    np.random.seed(seed_value)\n",
    "    torch.manual_seed(seed_value)\n",
    "\n",
    "    # If you are using GPU\n",
    "    if torch.cuda.is_available():\n",
    "        torch.cuda.manual_seed(seed_value)\n",
    "        torch.cuda.manual_seed_all(seed_value)\n",
    "        torch.backends.cudnn.deterministic = True\n",
    "        torch.backends.cudnn.benchmark = False\n",
    "\n",
    "# Call the function at the start of your script\n",
    "set_seed(42)"
   ]
  },
  {
   "cell_type": "code",
   "execution_count": 3,
   "id": "efb9e78e",
   "metadata": {
    "execution": {
     "iopub.execute_input": "2023-10-15T01:17:56.460442Z",
     "iopub.status.busy": "2023-10-15T01:17:56.460101Z",
     "iopub.status.idle": "2023-10-15T01:17:56.464573Z",
     "shell.execute_reply": "2023-10-15T01:17:56.463602Z"
    },
    "id": "KVfOer-tmdEh",
    "papermill": {
     "duration": 0.009714,
     "end_time": "2023-10-15T01:17:56.466381",
     "exception": false,
     "start_time": "2023-10-15T01:17:56.456667",
     "status": "completed"
    },
    "tags": []
   },
   "outputs": [],
   "source": [
    "# Hyperparameters\n",
    "BATCH_SIZE = 8\n",
    "INPUT_SIZE = 640\n",
    "EPOCHS = 30\n",
    "LEARNING_RATE = 0.0005\n",
    "PATIENCE = 5\n",
    "WARMUP_EPOCHS = 3\n",
    "T_MAX = 10"
   ]
  },
  {
   "cell_type": "code",
   "execution_count": 4,
   "id": "ea94933c",
   "metadata": {
    "execution": {
     "iopub.execute_input": "2023-10-15T01:17:56.472661Z",
     "iopub.status.busy": "2023-10-15T01:17:56.472294Z",
     "iopub.status.idle": "2023-10-15T01:17:56.477274Z",
     "shell.execute_reply": "2023-10-15T01:17:56.476255Z"
    },
    "id": "H4OBlmEzmdEh",
    "papermill": {
     "duration": 0.010232,
     "end_time": "2023-10-15T01:17:56.479074",
     "exception": false,
     "start_time": "2023-10-15T01:17:56.468842",
     "status": "completed"
    },
    "tags": []
   },
   "outputs": [],
   "source": [
    "# Data Transforms\n",
    "transform = transforms.Compose([\n",
    "    transforms.Resize((INPUT_SIZE, INPUT_SIZE)),\n",
    "    transforms.ToTensor(),\n",
    "    transforms.Normalize(mean=[0.485, 0.456, 0.406], std=[0.229, 0.224, 0.225]),\n",
    "])"
   ]
  },
  {
   "cell_type": "code",
   "execution_count": 5,
   "id": "cea3f238",
   "metadata": {
    "execution": {
     "iopub.execute_input": "2023-10-15T01:17:56.484929Z",
     "iopub.status.busy": "2023-10-15T01:17:56.484651Z",
     "iopub.status.idle": "2023-10-15T01:18:00.132437Z",
     "shell.execute_reply": "2023-10-15T01:18:00.131350Z"
    },
    "id": "pR0EY3bZmdEi",
    "papermill": {
     "duration": 3.653269,
     "end_time": "2023-10-15T01:18:00.134853",
     "exception": false,
     "start_time": "2023-10-15T01:17:56.481584",
     "status": "completed"
    },
    "tags": []
   },
   "outputs": [],
   "source": [
    "# Datasets and DataLoaders\n",
    "train_dataset = datasets.ImageFolder('/kaggle/input/nitec-multiclass-dataset/DATASET/train', transform=transform)\n",
    "val_dataset = datasets.ImageFolder('/kaggle/input/nitec-multiclass-dataset/DATASET/test', transform=transform)\n",
    "\n",
    "train_loader = DataLoader(train_dataset, batch_size=BATCH_SIZE, shuffle=True, num_workers = 2)\n",
    "val_loader = DataLoader(val_dataset, batch_size=BATCH_SIZE, shuffle=False, num_workers = 2)"
   ]
  },
  {
   "cell_type": "code",
   "execution_count": 6,
   "id": "cc599f08",
   "metadata": {
    "execution": {
     "iopub.execute_input": "2023-10-15T01:18:00.142616Z",
     "iopub.status.busy": "2023-10-15T01:18:00.142234Z",
     "iopub.status.idle": "2023-10-15T01:18:00.154766Z",
     "shell.execute_reply": "2023-10-15T01:18:00.153589Z"
    },
    "id": "njMjSX2HmdEi",
    "outputId": "1145d34d-3e2d-4e1a-e4b0-76bf08ca9237",
    "papermill": {
     "duration": 0.018634,
     "end_time": "2023-10-15T01:18:00.156820",
     "exception": false,
     "start_time": "2023-10-15T01:18:00.138186",
     "status": "completed"
    },
    "tags": []
   },
   "outputs": [],
   "source": [
    "def yolo(model_name):\n",
    "    # Model\n",
    "    device = torch.device('cuda' if torch.cuda.is_available() else 'cpu')\n",
    "    model = torch.hub.load('pytorch/vision:v0.13.0', model_name, weights='IMAGENET1K_V1')\n",
    "    num_ftrs = model.classifier[1].in_features\n",
    "    model.classifier[1] = nn.Linear(num_ftrs, 5)\n",
    "    model = model.to(device)\n",
    "\n",
    "    # Loss and Optimizer\n",
    "    criterion = nn.CrossEntropyLoss()\n",
    "    optimizer = optim.Adam(model.parameters(), lr=LEARNING_RATE, weight_decay = 0.0005)\n",
    "\n",
    "    # Learning Rate Scheduler with Warmup\n",
    "    scheduler = optim.lr_scheduler.CosineAnnealingLR(optimizer, T_max=T_MAX)\n",
    "\n",
    "    # Training Function\n",
    "    def train(epoch):\n",
    "        model.train()\n",
    "        total_loss = 0.0\n",
    "        for data, target in tqdm(train_loader, desc=f\"Epoch {epoch}\"):\n",
    "            data, target = data.to(device), target.to(device)\n",
    "            optimizer.zero_grad()\n",
    "            output = model(data)\n",
    "            loss = criterion(output, target)\n",
    "            loss.backward()\n",
    "            optimizer.step()\n",
    "            total_loss += loss.item()\n",
    "        print(f\"Epoch {epoch}: Training Loss: {total_loss/len(train_loader)}\")\n",
    "\n",
    "    # Validation Function\n",
    "    def validate():\n",
    "        model.eval()\n",
    "        val_loss = 0.0\n",
    "        all_preds = []\n",
    "        all_targets = []\n",
    "        for data, target in tqdm(val_loader, desc=\"Validating\"):\n",
    "            data, target = data.to(device), target.to(device)\n",
    "            output = model(data)\n",
    "            loss = criterion(output, target)\n",
    "            val_loss += loss.item()\n",
    "            preds = output.argmax(dim=1)\n",
    "            all_preds.extend(preds.cpu().numpy())\n",
    "            all_targets.extend(target.cpu().numpy())\n",
    "\n",
    "        f1 = f1_score(all_targets, all_preds, average='macro')\n",
    "        acc = accuracy_score(all_targets, all_preds)\n",
    "        print(f\"Validation Loss: {val_loss/len(val_loader)} | F1 Score: {f1} | Accuracy: {acc}\")\n",
    "        return f1\n",
    "\n",
    "    # Main Training Loop with Early Stopping\n",
    "    best_f1 = 0.0\n",
    "    counter = 0\n",
    "    for epoch in range(1, EPOCHS+1):\n",
    "        if epoch <= WARMUP_EPOCHS:\n",
    "            warmup_factor = epoch / WARMUP_EPOCHS\n",
    "            for param_group in optimizer.param_groups:\n",
    "                param_group['lr'] = LEARNING_RATE * warmup_factor\n",
    "        train(epoch)\n",
    "        torch.cuda.empty_cache()\n",
    "        with torch.no_grad():\n",
    "          current_f1 = validate()\n",
    "        scheduler.step()\n",
    "\n",
    "        # Save best model\n",
    "        if current_f1 > best_f1:\n",
    "            best_f1 = current_f1\n",
    "            torch.save(model.state_dict(), f'{model_name}_best_model_at_epoch_{epoch}.pth')\n",
    "            counter = 0\n",
    "        else:\n",
    "            counter += 1\n",
    "            if counter >= PATIENCE:\n",
    "                print(\"Early stopping triggered!\")\n",
    "                break\n",
    "\n",
    "    print(f\"Training Completed for {model_name}!\")\n",
    "\n"
   ]
  },
  {
   "cell_type": "code",
   "execution_count": 7,
   "id": "1ebe3768",
   "metadata": {
    "execution": {
     "iopub.execute_input": "2023-10-15T01:18:00.163847Z",
     "iopub.status.busy": "2023-10-15T01:18:00.163084Z",
     "iopub.status.idle": "2023-10-15T04:29:58.316204Z",
     "shell.execute_reply": "2023-10-15T04:29:58.314833Z"
    },
    "papermill": {
     "duration": 11518.159503,
     "end_time": "2023-10-15T04:29:58.319059",
     "exception": false,
     "start_time": "2023-10-15T01:18:00.159556",
     "status": "completed"
    },
    "tags": []
   },
   "outputs": [
    {
     "name": "stderr",
     "output_type": "stream",
     "text": [
      "Downloading: \"https://github.com/pytorch/vision/zipball/v0.13.0\" to /root/.cache/torch/hub/v0.13.0.zip\n",
      "Downloading: \"https://download.pytorch.org/models/efficientnet_b0_rwightman-3dd342df.pth\" to /root/.cache/torch/hub/checkpoints/efficientnet_b0_rwightman-3dd342df.pth\n",
      "100%|██████████| 20.5M/20.5M [00:00<00:00, 155MB/s]\n",
      "Epoch 1: 100%|██████████| 741/741 [03:14<00:00,  3.82it/s]\n"
     ]
    },
    {
     "name": "stdout",
     "output_type": "stream",
     "text": [
      "Epoch 1: Training Loss: 0.3857674545076815\n"
     ]
    },
    {
     "name": "stderr",
     "output_type": "stream",
     "text": [
      "Validating: 100%|██████████| 83/83 [00:15<00:00,  5.29it/s]\n"
     ]
    },
    {
     "name": "stdout",
     "output_type": "stream",
     "text": [
      "Validation Loss: 0.2675470807806993 | F1 Score: 0.7179707341858746 | Accuracy: 0.9092284417549168\n"
     ]
    },
    {
     "name": "stderr",
     "output_type": "stream",
     "text": [
      "Epoch 2: 100%|██████████| 741/741 [03:07<00:00,  3.95it/s]\n"
     ]
    },
    {
     "name": "stdout",
     "output_type": "stream",
     "text": [
      "Epoch 2: Training Loss: 0.28777864521593055\n"
     ]
    },
    {
     "name": "stderr",
     "output_type": "stream",
     "text": [
      "Validating: 100%|██████████| 83/83 [00:15<00:00,  5.25it/s]\n"
     ]
    },
    {
     "name": "stdout",
     "output_type": "stream",
     "text": [
      "Validation Loss: 0.32772091488881283 | F1 Score: 0.7151830921949702 | Accuracy: 0.8819969742813918\n"
     ]
    },
    {
     "name": "stderr",
     "output_type": "stream",
     "text": [
      "Epoch 3: 100%|██████████| 741/741 [03:07<00:00,  3.96it/s]\n"
     ]
    },
    {
     "name": "stdout",
     "output_type": "stream",
     "text": [
      "Epoch 3: Training Loss: 0.2809927144500096\n"
     ]
    },
    {
     "name": "stderr",
     "output_type": "stream",
     "text": [
      "Validating: 100%|██████████| 83/83 [00:15<00:00,  5.44it/s]\n"
     ]
    },
    {
     "name": "stdout",
     "output_type": "stream",
     "text": [
      "Validation Loss: 0.29159220307504374 | F1 Score: 0.697150258667779 | Accuracy: 0.9001512859304085\n"
     ]
    },
    {
     "name": "stderr",
     "output_type": "stream",
     "text": [
      "Epoch 4: 100%|██████████| 741/741 [03:07<00:00,  3.96it/s]\n"
     ]
    },
    {
     "name": "stdout",
     "output_type": "stream",
     "text": [
      "Epoch 4: Training Loss: 0.23735345276600497\n"
     ]
    },
    {
     "name": "stderr",
     "output_type": "stream",
     "text": [
      "Validating: 100%|██████████| 83/83 [00:15<00:00,  5.27it/s]\n"
     ]
    },
    {
     "name": "stdout",
     "output_type": "stream",
     "text": [
      "Validation Loss: 0.24559443277946438 | F1 Score: 0.7277644216797616 | Accuracy: 0.9152798789712556\n"
     ]
    },
    {
     "name": "stderr",
     "output_type": "stream",
     "text": [
      "Epoch 5: 100%|██████████| 741/741 [03:07<00:00,  3.96it/s]\n"
     ]
    },
    {
     "name": "stdout",
     "output_type": "stream",
     "text": [
      "Epoch 5: Training Loss: 0.22038754031304697\n"
     ]
    },
    {
     "name": "stderr",
     "output_type": "stream",
     "text": [
      "Validating: 100%|██████████| 83/83 [00:15<00:00,  5.21it/s]\n"
     ]
    },
    {
     "name": "stdout",
     "output_type": "stream",
     "text": [
      "Validation Loss: 0.31649097542177484 | F1 Score: 0.724785167608812 | Accuracy: 0.9077155824508321\n"
     ]
    },
    {
     "name": "stderr",
     "output_type": "stream",
     "text": [
      "Epoch 6: 100%|██████████| 741/741 [03:07<00:00,  3.95it/s]\n"
     ]
    },
    {
     "name": "stdout",
     "output_type": "stream",
     "text": [
      "Epoch 6: Training Loss: 0.1830747604848347\n"
     ]
    },
    {
     "name": "stderr",
     "output_type": "stream",
     "text": [
      "Validating: 100%|██████████| 83/83 [00:15<00:00,  5.40it/s]\n"
     ]
    },
    {
     "name": "stdout",
     "output_type": "stream",
     "text": [
      "Validation Loss: 0.276954142734442 | F1 Score: 0.7434474979564086 | Accuracy: 0.897125567322239\n"
     ]
    },
    {
     "name": "stderr",
     "output_type": "stream",
     "text": [
      "Epoch 7: 100%|██████████| 741/741 [03:06<00:00,  3.97it/s]\n"
     ]
    },
    {
     "name": "stdout",
     "output_type": "stream",
     "text": [
      "Epoch 7: Training Loss: 0.13078152682813193\n"
     ]
    },
    {
     "name": "stderr",
     "output_type": "stream",
     "text": [
      "Validating: 100%|██████████| 83/83 [00:15<00:00,  5.20it/s]\n"
     ]
    },
    {
     "name": "stdout",
     "output_type": "stream",
     "text": [
      "Validation Loss: 0.251607906637876 | F1 Score: 0.81047758672313 | Accuracy: 0.9349470499243571\n"
     ]
    },
    {
     "name": "stderr",
     "output_type": "stream",
     "text": [
      "Epoch 8: 100%|██████████| 741/741 [03:06<00:00,  3.98it/s]\n"
     ]
    },
    {
     "name": "stdout",
     "output_type": "stream",
     "text": [
      "Epoch 8: Training Loss: 0.08983259656474085\n"
     ]
    },
    {
     "name": "stderr",
     "output_type": "stream",
     "text": [
      "Validating: 100%|██████████| 83/83 [00:15<00:00,  5.20it/s]\n"
     ]
    },
    {
     "name": "stdout",
     "output_type": "stream",
     "text": [
      "Validation Loss: 0.25806846662181854 | F1 Score: 0.7971327853152932 | Accuracy: 0.9319213313161876\n"
     ]
    },
    {
     "name": "stderr",
     "output_type": "stream",
     "text": [
      "Epoch 9: 100%|██████████| 741/741 [03:07<00:00,  3.95it/s]\n"
     ]
    },
    {
     "name": "stdout",
     "output_type": "stream",
     "text": [
      "Epoch 9: Training Loss: 0.054946760899389185\n"
     ]
    },
    {
     "name": "stderr",
     "output_type": "stream",
     "text": [
      "Validating: 100%|██████████| 83/83 [00:15<00:00,  5.38it/s]\n"
     ]
    },
    {
     "name": "stdout",
     "output_type": "stream",
     "text": [
      "Validation Loss: 0.27489334211512245 | F1 Score: 0.8039518660000109 | Accuracy: 0.9288956127080181\n"
     ]
    },
    {
     "name": "stderr",
     "output_type": "stream",
     "text": [
      "Epoch 10: 100%|██████████| 741/741 [03:07<00:00,  3.94it/s]\n"
     ]
    },
    {
     "name": "stdout",
     "output_type": "stream",
     "text": [
      "Epoch 10: Training Loss: 0.03997516852860715\n"
     ]
    },
    {
     "name": "stderr",
     "output_type": "stream",
     "text": [
      "Validating: 100%|██████████| 83/83 [00:16<00:00,  5.13it/s]\n"
     ]
    },
    {
     "name": "stdout",
     "output_type": "stream",
     "text": [
      "Validation Loss: 0.2557070952333813 | F1 Score: 0.7913814022407886 | Accuracy: 0.9288956127080181\n"
     ]
    },
    {
     "name": "stderr",
     "output_type": "stream",
     "text": [
      "Epoch 11: 100%|██████████| 741/741 [03:08<00:00,  3.94it/s]\n"
     ]
    },
    {
     "name": "stdout",
     "output_type": "stream",
     "text": [
      "Epoch 11: Training Loss: 0.03226428492875787\n"
     ]
    },
    {
     "name": "stderr",
     "output_type": "stream",
     "text": [
      "Validating: 100%|██████████| 83/83 [00:15<00:00,  5.30it/s]\n"
     ]
    },
    {
     "name": "stdout",
     "output_type": "stream",
     "text": [
      "Validation Loss: 0.27416919612849333 | F1 Score: 0.8022553763076194 | Accuracy: 0.9334341906202723\n"
     ]
    },
    {
     "name": "stderr",
     "output_type": "stream",
     "text": [
      "Epoch 12: 100%|██████████| 741/741 [03:07<00:00,  3.95it/s]\n"
     ]
    },
    {
     "name": "stdout",
     "output_type": "stream",
     "text": [
      "Epoch 12: Training Loss: 0.03270512974251366\n"
     ]
    },
    {
     "name": "stderr",
     "output_type": "stream",
     "text": [
      "Validating: 100%|██████████| 83/83 [00:15<00:00,  5.51it/s]\n",
      "Using cache found in /root/.cache/torch/hub/pytorch_vision_v0.13.0\n"
     ]
    },
    {
     "name": "stdout",
     "output_type": "stream",
     "text": [
      "Validation Loss: 0.2707901075789186 | F1 Score: 0.7987449541740719 | Accuracy: 0.9228441754916793\n",
      "Early stopping triggered!\n",
      "Training Completed for efficientnet_b0!\n"
     ]
    },
    {
     "name": "stderr",
     "output_type": "stream",
     "text": [
      "Downloading: \"https://download.pytorch.org/models/efficientnet_b1_rwightman-533bc792.pth\" to /root/.cache/torch/hub/checkpoints/efficientnet_b1_rwightman-533bc792.pth\n",
      "100%|██████████| 30.1M/30.1M [00:00<00:00, 38.1MB/s]\n",
      "Epoch 1: 100%|██████████| 741/741 [04:04<00:00,  3.03it/s]\n"
     ]
    },
    {
     "name": "stdout",
     "output_type": "stream",
     "text": [
      "Epoch 1: Training Loss: 0.36243217081892304\n"
     ]
    },
    {
     "name": "stderr",
     "output_type": "stream",
     "text": [
      "Validating: 100%|██████████| 83/83 [00:17<00:00,  4.70it/s]\n"
     ]
    },
    {
     "name": "stdout",
     "output_type": "stream",
     "text": [
      "Validation Loss: 0.2844550127713346 | F1 Score: 0.7648227411958441 | Accuracy: 0.913767019667171\n"
     ]
    },
    {
     "name": "stderr",
     "output_type": "stream",
     "text": [
      "Epoch 2: 100%|██████████| 741/741 [04:01<00:00,  3.07it/s]\n"
     ]
    },
    {
     "name": "stdout",
     "output_type": "stream",
     "text": [
      "Epoch 2: Training Loss: 0.2753549078482551\n"
     ]
    },
    {
     "name": "stderr",
     "output_type": "stream",
     "text": [
      "Validating: 100%|██████████| 83/83 [00:17<00:00,  4.78it/s]\n"
     ]
    },
    {
     "name": "stdout",
     "output_type": "stream",
     "text": [
      "Validation Loss: 0.2564404464631162 | F1 Score: 0.7803586542125186 | Accuracy: 0.9077155824508321\n"
     ]
    },
    {
     "name": "stderr",
     "output_type": "stream",
     "text": [
      "Epoch 3: 100%|██████████| 741/741 [04:01<00:00,  3.07it/s]\n"
     ]
    },
    {
     "name": "stdout",
     "output_type": "stream",
     "text": [
      "Epoch 3: Training Loss: 0.2762827130182874\n"
     ]
    },
    {
     "name": "stderr",
     "output_type": "stream",
     "text": [
      "Validating: 100%|██████████| 83/83 [00:17<00:00,  4.87it/s]\n"
     ]
    },
    {
     "name": "stdout",
     "output_type": "stream",
     "text": [
      "Validation Loss: 0.2522956161536781 | F1 Score: 0.79174758526918 | Accuracy: 0.924357034795764\n"
     ]
    },
    {
     "name": "stderr",
     "output_type": "stream",
     "text": [
      "Epoch 4: 100%|██████████| 741/741 [04:01<00:00,  3.07it/s]\n"
     ]
    },
    {
     "name": "stdout",
     "output_type": "stream",
     "text": [
      "Epoch 4: Training Loss: 0.2401721071258348\n"
     ]
    },
    {
     "name": "stderr",
     "output_type": "stream",
     "text": [
      "Validating: 100%|██████████| 83/83 [00:16<00:00,  4.90it/s]\n"
     ]
    },
    {
     "name": "stdout",
     "output_type": "stream",
     "text": [
      "Validation Loss: 0.263701072915777 | F1 Score: 0.7744216702837392 | Accuracy: 0.913767019667171\n"
     ]
    },
    {
     "name": "stderr",
     "output_type": "stream",
     "text": [
      "Epoch 5: 100%|██████████| 741/741 [04:02<00:00,  3.06it/s]\n"
     ]
    },
    {
     "name": "stdout",
     "output_type": "stream",
     "text": [
      "Epoch 5: Training Loss: 0.2023102620571937\n"
     ]
    },
    {
     "name": "stderr",
     "output_type": "stream",
     "text": [
      "Validating: 100%|██████████| 83/83 [00:16<00:00,  5.04it/s]\n"
     ]
    },
    {
     "name": "stdout",
     "output_type": "stream",
     "text": [
      "Validation Loss: 0.2461485062888543 | F1 Score: 0.7807095140563289 | Accuracy: 0.9213313161875946\n"
     ]
    },
    {
     "name": "stderr",
     "output_type": "stream",
     "text": [
      "Epoch 6: 100%|██████████| 741/741 [04:02<00:00,  3.05it/s]\n"
     ]
    },
    {
     "name": "stdout",
     "output_type": "stream",
     "text": [
      "Epoch 6: Training Loss: 0.1669913577129524\n"
     ]
    },
    {
     "name": "stderr",
     "output_type": "stream",
     "text": [
      "Validating: 100%|██████████| 83/83 [00:16<00:00,  5.08it/s]\n"
     ]
    },
    {
     "name": "stdout",
     "output_type": "stream",
     "text": [
      "Validation Loss: 0.25146854029202564 | F1 Score: 0.7589860755592959 | Accuracy: 0.9228441754916793\n"
     ]
    },
    {
     "name": "stderr",
     "output_type": "stream",
     "text": [
      "Epoch 7: 100%|██████████| 741/741 [04:02<00:00,  3.05it/s]\n"
     ]
    },
    {
     "name": "stdout",
     "output_type": "stream",
     "text": [
      "Epoch 7: Training Loss: 0.12498263023651045\n"
     ]
    },
    {
     "name": "stderr",
     "output_type": "stream",
     "text": [
      "Validating: 100%|██████████| 83/83 [00:16<00:00,  5.19it/s]\n"
     ]
    },
    {
     "name": "stdout",
     "output_type": "stream",
     "text": [
      "Validation Loss: 0.2613926129964396 | F1 Score: 0.804711422682162 | Accuracy: 0.924357034795764\n"
     ]
    },
    {
     "name": "stderr",
     "output_type": "stream",
     "text": [
      "Epoch 8: 100%|██████████| 741/741 [04:02<00:00,  3.05it/s]\n"
     ]
    },
    {
     "name": "stdout",
     "output_type": "stream",
     "text": [
      "Epoch 8: Training Loss: 0.07497768364321973\n"
     ]
    },
    {
     "name": "stderr",
     "output_type": "stream",
     "text": [
      "Validating: 100%|██████████| 83/83 [00:15<00:00,  5.31it/s]\n"
     ]
    },
    {
     "name": "stdout",
     "output_type": "stream",
     "text": [
      "Validation Loss: 0.27097819408497226 | F1 Score: 0.8410074925901883 | Accuracy: 0.9409984871406959\n"
     ]
    },
    {
     "name": "stderr",
     "output_type": "stream",
     "text": [
      "Epoch 9: 100%|██████████| 741/741 [04:02<00:00,  3.06it/s]\n"
     ]
    },
    {
     "name": "stdout",
     "output_type": "stream",
     "text": [
      "Epoch 9: Training Loss: 0.039241867793023875\n"
     ]
    },
    {
     "name": "stderr",
     "output_type": "stream",
     "text": [
      "Validating: 100%|██████████| 83/83 [00:16<00:00,  5.09it/s]\n"
     ]
    },
    {
     "name": "stdout",
     "output_type": "stream",
     "text": [
      "Validation Loss: 0.2583190181082818 | F1 Score: 0.8322913135489352 | Accuracy: 0.9394856278366112\n"
     ]
    },
    {
     "name": "stderr",
     "output_type": "stream",
     "text": [
      "Epoch 10: 100%|██████████| 741/741 [04:03<00:00,  3.05it/s]\n"
     ]
    },
    {
     "name": "stdout",
     "output_type": "stream",
     "text": [
      "Epoch 10: Training Loss: 0.025402871361624463\n"
     ]
    },
    {
     "name": "stderr",
     "output_type": "stream",
     "text": [
      "Validating: 100%|██████████| 83/83 [00:16<00:00,  5.07it/s]\n"
     ]
    },
    {
     "name": "stdout",
     "output_type": "stream",
     "text": [
      "Validation Loss: 0.24622316054031337 | F1 Score: 0.8481468547598354 | Accuracy: 0.9425113464447806\n"
     ]
    },
    {
     "name": "stderr",
     "output_type": "stream",
     "text": [
      "Epoch 11: 100%|██████████| 741/741 [04:01<00:00,  3.06it/s]\n"
     ]
    },
    {
     "name": "stdout",
     "output_type": "stream",
     "text": [
      "Epoch 11: Training Loss: 0.021410098751612868\n"
     ]
    },
    {
     "name": "stderr",
     "output_type": "stream",
     "text": [
      "Validating: 100%|██████████| 83/83 [00:17<00:00,  4.81it/s]\n"
     ]
    },
    {
     "name": "stdout",
     "output_type": "stream",
     "text": [
      "Validation Loss: 0.25937839059511736 | F1 Score: 0.8415155284443017 | Accuracy: 0.9440242057488654\n"
     ]
    },
    {
     "name": "stderr",
     "output_type": "stream",
     "text": [
      "Epoch 12: 100%|██████████| 741/741 [04:02<00:00,  3.06it/s]\n"
     ]
    },
    {
     "name": "stdout",
     "output_type": "stream",
     "text": [
      "Epoch 12: Training Loss: 0.020844323221836353\n"
     ]
    },
    {
     "name": "stderr",
     "output_type": "stream",
     "text": [
      "Validating: 100%|██████████| 83/83 [00:17<00:00,  4.62it/s]\n"
     ]
    },
    {
     "name": "stdout",
     "output_type": "stream",
     "text": [
      "Validation Loss: 0.2627968313797491 | F1 Score: 0.8491908177675581 | Accuracy: 0.9440242057488654\n"
     ]
    },
    {
     "name": "stderr",
     "output_type": "stream",
     "text": [
      "Epoch 13: 100%|██████████| 741/741 [04:02<00:00,  3.05it/s]\n"
     ]
    },
    {
     "name": "stdout",
     "output_type": "stream",
     "text": [
      "Epoch 13: Training Loss: 0.02945218525919466\n"
     ]
    },
    {
     "name": "stderr",
     "output_type": "stream",
     "text": [
      "Validating: 100%|██████████| 83/83 [00:16<00:00,  4.97it/s]\n"
     ]
    },
    {
     "name": "stdout",
     "output_type": "stream",
     "text": [
      "Validation Loss: 0.26586786857782807 | F1 Score: 0.8429360483996294 | Accuracy: 0.9394856278366112\n"
     ]
    },
    {
     "name": "stderr",
     "output_type": "stream",
     "text": [
      "Epoch 14: 100%|██████████| 741/741 [04:03<00:00,  3.04it/s]\n"
     ]
    },
    {
     "name": "stdout",
     "output_type": "stream",
     "text": [
      "Epoch 14: Training Loss: 0.049381041581380805\n"
     ]
    },
    {
     "name": "stderr",
     "output_type": "stream",
     "text": [
      "Validating: 100%|██████████| 83/83 [00:16<00:00,  5.07it/s]\n"
     ]
    },
    {
     "name": "stdout",
     "output_type": "stream",
     "text": [
      "Validation Loss: 0.3466063675727325 | F1 Score: 0.8038646261279789 | Accuracy: 0.9228441754916793\n"
     ]
    },
    {
     "name": "stderr",
     "output_type": "stream",
     "text": [
      "Epoch 15: 100%|██████████| 741/741 [04:02<00:00,  3.05it/s]\n"
     ]
    },
    {
     "name": "stdout",
     "output_type": "stream",
     "text": [
      "Epoch 15: Training Loss: 0.09017997331626719\n"
     ]
    },
    {
     "name": "stderr",
     "output_type": "stream",
     "text": [
      "Validating: 100%|██████████| 83/83 [00:15<00:00,  5.33it/s]\n"
     ]
    },
    {
     "name": "stdout",
     "output_type": "stream",
     "text": [
      "Validation Loss: 0.28066833080855025 | F1 Score: 0.799403960809113 | Accuracy: 0.9334341906202723\n"
     ]
    },
    {
     "name": "stderr",
     "output_type": "stream",
     "text": [
      "Epoch 16: 100%|██████████| 741/741 [04:04<00:00,  3.03it/s]\n"
     ]
    },
    {
     "name": "stdout",
     "output_type": "stream",
     "text": [
      "Epoch 16: Training Loss: 0.10265972782410279\n"
     ]
    },
    {
     "name": "stderr",
     "output_type": "stream",
     "text": [
      "Validating: 100%|██████████| 83/83 [00:16<00:00,  5.16it/s]\n"
     ]
    },
    {
     "name": "stdout",
     "output_type": "stream",
     "text": [
      "Validation Loss: 0.2564603587479614 | F1 Score: 0.8317822844256083 | Accuracy: 0.9394856278366112\n"
     ]
    },
    {
     "name": "stderr",
     "output_type": "stream",
     "text": [
      "Epoch 17: 100%|██████████| 741/741 [04:03<00:00,  3.04it/s]\n"
     ]
    },
    {
     "name": "stdout",
     "output_type": "stream",
     "text": [
      "Epoch 17: Training Loss: 0.11916295116828245\n"
     ]
    },
    {
     "name": "stderr",
     "output_type": "stream",
     "text": [
      "Validating: 100%|██████████| 83/83 [00:17<00:00,  4.77it/s]\n",
      "Using cache found in /root/.cache/torch/hub/pytorch_vision_v0.13.0\n"
     ]
    },
    {
     "name": "stdout",
     "output_type": "stream",
     "text": [
      "Validation Loss: 0.31557663950188286 | F1 Score: 0.7560848607767288 | Accuracy: 0.913767019667171\n",
      "Early stopping triggered!\n",
      "Training Completed for efficientnet_b1!\n"
     ]
    },
    {
     "name": "stderr",
     "output_type": "stream",
     "text": [
      "Downloading: \"https://download.pytorch.org/models/efficientnet_b2_rwightman-bcdf34b7.pth\" to /root/.cache/torch/hub/checkpoints/efficientnet_b2_rwightman-bcdf34b7.pth\n",
      "100%|██████████| 35.2M/35.2M [00:00<00:00, 182MB/s]\n",
      "Epoch 1: 100%|██████████| 741/741 [04:15<00:00,  2.91it/s]\n"
     ]
    },
    {
     "name": "stdout",
     "output_type": "stream",
     "text": [
      "Epoch 1: Training Loss: 0.3646855160214419\n"
     ]
    },
    {
     "name": "stderr",
     "output_type": "stream",
     "text": [
      "Validating: 100%|██████████| 83/83 [00:16<00:00,  4.93it/s]\n"
     ]
    },
    {
     "name": "stdout",
     "output_type": "stream",
     "text": [
      "Validation Loss: 0.2703280841387494 | F1 Score: 0.7014433005787036 | Accuracy: 0.8956127080181543\n"
     ]
    },
    {
     "name": "stderr",
     "output_type": "stream",
     "text": [
      "Epoch 2: 100%|██████████| 741/741 [04:15<00:00,  2.90it/s]\n"
     ]
    },
    {
     "name": "stdout",
     "output_type": "stream",
     "text": [
      "Epoch 2: Training Loss: 0.2828927461985453\n"
     ]
    },
    {
     "name": "stderr",
     "output_type": "stream",
     "text": [
      "Validating: 100%|██████████| 83/83 [00:16<00:00,  5.02it/s]\n"
     ]
    },
    {
     "name": "stdout",
     "output_type": "stream",
     "text": [
      "Validation Loss: 0.3041506844589554 | F1 Score: 0.720477641690128 | Accuracy: 0.9092284417549168\n"
     ]
    },
    {
     "name": "stderr",
     "output_type": "stream",
     "text": [
      "Epoch 3: 100%|██████████| 741/741 [04:15<00:00,  2.90it/s]\n"
     ]
    },
    {
     "name": "stdout",
     "output_type": "stream",
     "text": [
      "Epoch 3: Training Loss: 0.29262098193221425\n"
     ]
    },
    {
     "name": "stderr",
     "output_type": "stream",
     "text": [
      "Validating: 100%|██████████| 83/83 [00:15<00:00,  5.33it/s]\n"
     ]
    },
    {
     "name": "stdout",
     "output_type": "stream",
     "text": [
      "Validation Loss: 0.28873828196819556 | F1 Score: 0.7522259167448013 | Accuracy: 0.9062027231467473\n"
     ]
    },
    {
     "name": "stderr",
     "output_type": "stream",
     "text": [
      "Epoch 4: 100%|██████████| 741/741 [04:14<00:00,  2.91it/s]\n"
     ]
    },
    {
     "name": "stdout",
     "output_type": "stream",
     "text": [
      "Epoch 4: Training Loss: 0.248540144980547\n"
     ]
    },
    {
     "name": "stderr",
     "output_type": "stream",
     "text": [
      "Validating: 100%|██████████| 83/83 [00:16<00:00,  5.06it/s]\n"
     ]
    },
    {
     "name": "stdout",
     "output_type": "stream",
     "text": [
      "Validation Loss: 0.32144811026280723 | F1 Score: 0.7565245579448237 | Accuracy: 0.9077155824508321\n"
     ]
    },
    {
     "name": "stderr",
     "output_type": "stream",
     "text": [
      "Epoch 5: 100%|██████████| 741/741 [04:15<00:00,  2.90it/s]\n"
     ]
    },
    {
     "name": "stdout",
     "output_type": "stream",
     "text": [
      "Epoch 5: Training Loss: 0.22404807194088322\n"
     ]
    },
    {
     "name": "stderr",
     "output_type": "stream",
     "text": [
      "Validating: 100%|██████████| 83/83 [00:15<00:00,  5.26it/s]\n"
     ]
    },
    {
     "name": "stdout",
     "output_type": "stream",
     "text": [
      "Validation Loss: 0.38930045828329823 | F1 Score: 0.7445282538312286 | Accuracy: 0.8986384266263238\n"
     ]
    },
    {
     "name": "stderr",
     "output_type": "stream",
     "text": [
      "Epoch 6: 100%|██████████| 741/741 [04:15<00:00,  2.90it/s]\n"
     ]
    },
    {
     "name": "stdout",
     "output_type": "stream",
     "text": [
      "Epoch 6: Training Loss: 0.19354834636628085\n"
     ]
    },
    {
     "name": "stderr",
     "output_type": "stream",
     "text": [
      "Validating: 100%|██████████| 83/83 [00:16<00:00,  5.00it/s]\n"
     ]
    },
    {
     "name": "stdout",
     "output_type": "stream",
     "text": [
      "Validation Loss: 0.2743415388668584 | F1 Score: 0.7654821941880765 | Accuracy: 0.9183055975794251\n"
     ]
    },
    {
     "name": "stderr",
     "output_type": "stream",
     "text": [
      "Epoch 7: 100%|██████████| 741/741 [04:15<00:00,  2.90it/s]\n"
     ]
    },
    {
     "name": "stdout",
     "output_type": "stream",
     "text": [
      "Epoch 7: Training Loss: 0.15238449535007098\n"
     ]
    },
    {
     "name": "stderr",
     "output_type": "stream",
     "text": [
      "Validating: 100%|██████████| 83/83 [00:16<00:00,  5.12it/s]\n"
     ]
    },
    {
     "name": "stdout",
     "output_type": "stream",
     "text": [
      "Validation Loss: 0.32397272321851417 | F1 Score: 0.7589113697658265 | Accuracy: 0.9152798789712556\n"
     ]
    },
    {
     "name": "stderr",
     "output_type": "stream",
     "text": [
      "Epoch 8: 100%|██████████| 741/741 [04:16<00:00,  2.89it/s]\n"
     ]
    },
    {
     "name": "stdout",
     "output_type": "stream",
     "text": [
      "Epoch 8: Training Loss: 0.10867207374753036\n"
     ]
    },
    {
     "name": "stderr",
     "output_type": "stream",
     "text": [
      "Validating: 100%|██████████| 83/83 [00:17<00:00,  4.74it/s]\n"
     ]
    },
    {
     "name": "stdout",
     "output_type": "stream",
     "text": [
      "Validation Loss: 0.28529463410665035 | F1 Score: 0.8054356620659048 | Accuracy: 0.924357034795764\n"
     ]
    },
    {
     "name": "stderr",
     "output_type": "stream",
     "text": [
      "Epoch 9: 100%|██████████| 741/741 [04:16<00:00,  2.89it/s]\n"
     ]
    },
    {
     "name": "stdout",
     "output_type": "stream",
     "text": [
      "Epoch 9: Training Loss: 0.060731350845583766\n"
     ]
    },
    {
     "name": "stderr",
     "output_type": "stream",
     "text": [
      "Validating: 100%|██████████| 83/83 [00:17<00:00,  4.86it/s]\n"
     ]
    },
    {
     "name": "stdout",
     "output_type": "stream",
     "text": [
      "Validation Loss: 0.2983289611782158 | F1 Score: 0.8003963324365415 | Accuracy: 0.9228441754916793\n"
     ]
    },
    {
     "name": "stderr",
     "output_type": "stream",
     "text": [
      "Epoch 10: 100%|██████████| 741/741 [04:16<00:00,  2.89it/s]\n"
     ]
    },
    {
     "name": "stdout",
     "output_type": "stream",
     "text": [
      "Epoch 10: Training Loss: 0.04326724618225259\n"
     ]
    },
    {
     "name": "stderr",
     "output_type": "stream",
     "text": [
      "Validating: 100%|██████████| 83/83 [00:17<00:00,  4.63it/s]\n"
     ]
    },
    {
     "name": "stdout",
     "output_type": "stream",
     "text": [
      "Validation Loss: 0.28749557869846887 | F1 Score: 0.81835695682774 | Accuracy: 0.9288956127080181\n"
     ]
    },
    {
     "name": "stderr",
     "output_type": "stream",
     "text": [
      "Epoch 11: 100%|██████████| 741/741 [04:15<00:00,  2.90it/s]\n"
     ]
    },
    {
     "name": "stdout",
     "output_type": "stream",
     "text": [
      "Epoch 11: Training Loss: 0.03732225354983976\n"
     ]
    },
    {
     "name": "stderr",
     "output_type": "stream",
     "text": [
      "Validating: 100%|██████████| 83/83 [00:17<00:00,  4.68it/s]\n"
     ]
    },
    {
     "name": "stdout",
     "output_type": "stream",
     "text": [
      "Validation Loss: 0.2825481658849212 | F1 Score: 0.8201134968962528 | Accuracy: 0.9319213313161876\n"
     ]
    },
    {
     "name": "stderr",
     "output_type": "stream",
     "text": [
      "Epoch 12: 100%|██████████| 741/741 [04:16<00:00,  2.89it/s]\n"
     ]
    },
    {
     "name": "stdout",
     "output_type": "stream",
     "text": [
      "Epoch 12: Training Loss: 0.03625000711266824\n"
     ]
    },
    {
     "name": "stderr",
     "output_type": "stream",
     "text": [
      "Validating: 100%|██████████| 83/83 [00:16<00:00,  5.12it/s]\n"
     ]
    },
    {
     "name": "stdout",
     "output_type": "stream",
     "text": [
      "Validation Loss: 0.291988567303458 | F1 Score: 0.8317605118310565 | Accuracy: 0.9364599092284418\n"
     ]
    },
    {
     "name": "stderr",
     "output_type": "stream",
     "text": [
      "Epoch 13: 100%|██████████| 741/741 [04:17<00:00,  2.88it/s]\n"
     ]
    },
    {
     "name": "stdout",
     "output_type": "stream",
     "text": [
      "Epoch 13: Training Loss: 0.043901888099209974\n"
     ]
    },
    {
     "name": "stderr",
     "output_type": "stream",
     "text": [
      "Validating: 100%|██████████| 83/83 [00:16<00:00,  5.01it/s]\n"
     ]
    },
    {
     "name": "stdout",
     "output_type": "stream",
     "text": [
      "Validation Loss: 0.2970528993993582 | F1 Score: 0.8194034493621043 | Accuracy: 0.9304084720121029\n"
     ]
    },
    {
     "name": "stderr",
     "output_type": "stream",
     "text": [
      "Epoch 14: 100%|██████████| 741/741 [04:16<00:00,  2.88it/s]\n"
     ]
    },
    {
     "name": "stdout",
     "output_type": "stream",
     "text": [
      "Epoch 14: Training Loss: 0.06613872559500296\n"
     ]
    },
    {
     "name": "stderr",
     "output_type": "stream",
     "text": [
      "Validating: 100%|██████████| 83/83 [00:16<00:00,  5.00it/s]\n"
     ]
    },
    {
     "name": "stdout",
     "output_type": "stream",
     "text": [
      "Validation Loss: 0.2781886397099599 | F1 Score: 0.813908094630467 | Accuracy: 0.9334341906202723\n"
     ]
    },
    {
     "name": "stderr",
     "output_type": "stream",
     "text": [
      "Epoch 15: 100%|██████████| 741/741 [04:16<00:00,  2.89it/s]\n"
     ]
    },
    {
     "name": "stdout",
     "output_type": "stream",
     "text": [
      "Epoch 15: Training Loss: 0.09538050690015738\n"
     ]
    },
    {
     "name": "stderr",
     "output_type": "stream",
     "text": [
      "Validating: 100%|██████████| 83/83 [00:18<00:00,  4.55it/s]\n"
     ]
    },
    {
     "name": "stdout",
     "output_type": "stream",
     "text": [
      "Validation Loss: 0.30072089378421857 | F1 Score: 0.8036780151611247 | Accuracy: 0.9258698940998488\n"
     ]
    },
    {
     "name": "stderr",
     "output_type": "stream",
     "text": [
      "Epoch 16: 100%|██████████| 741/741 [04:17<00:00,  2.88it/s]\n"
     ]
    },
    {
     "name": "stdout",
     "output_type": "stream",
     "text": [
      "Epoch 16: Training Loss: 0.11636955126998733\n"
     ]
    },
    {
     "name": "stderr",
     "output_type": "stream",
     "text": [
      "Validating: 100%|██████████| 83/83 [00:16<00:00,  5.13it/s]\n"
     ]
    },
    {
     "name": "stdout",
     "output_type": "stream",
     "text": [
      "Validation Loss: 0.3005236325955933 | F1 Score: 0.7991227655286248 | Accuracy: 0.913767019667171\n"
     ]
    },
    {
     "name": "stderr",
     "output_type": "stream",
     "text": [
      "Epoch 17: 100%|██████████| 741/741 [04:18<00:00,  2.87it/s]\n"
     ]
    },
    {
     "name": "stdout",
     "output_type": "stream",
     "text": [
      "Epoch 17: Training Loss: 0.14939983426162776\n"
     ]
    },
    {
     "name": "stderr",
     "output_type": "stream",
     "text": [
      "Validating: 100%|██████████| 83/83 [00:16<00:00,  4.91it/s]"
     ]
    },
    {
     "name": "stdout",
     "output_type": "stream",
     "text": [
      "Validation Loss: 0.3403527650505961 | F1 Score: 0.7945081486485392 | Accuracy: 0.9092284417549168\n",
      "Early stopping triggered!\n",
      "Training Completed for efficientnet_b2!\n"
     ]
    },
    {
     "name": "stderr",
     "output_type": "stream",
     "text": [
      "\n"
     ]
    }
   ],
   "source": [
    "models = ['efficientnet_b0','efficientnet_b1','efficientnet_b2']\n",
    "for model_name in models:\n",
    "    torch.cuda.empty_cache()\n",
    "    yolo(model_name)"
   ]
  },
  {
   "cell_type": "code",
   "execution_count": 8,
   "id": "b6e83e50",
   "metadata": {
    "execution": {
     "iopub.execute_input": "2023-10-15T04:30:01.916530Z",
     "iopub.status.busy": "2023-10-15T04:30:01.915580Z",
     "iopub.status.idle": "2023-10-15T04:30:01.921931Z",
     "shell.execute_reply": "2023-10-15T04:30:01.920797Z"
    },
    "id": "QgnJYJFRzXUA",
    "outputId": "f1fabbf7-7a3e-4bac-ba5a-6c91e0a837ff",
    "papermill": {
     "duration": 1.738126,
     "end_time": "2023-10-15T04:30:01.924141",
     "exception": false,
     "start_time": "2023-10-15T04:30:00.186015",
     "status": "completed"
    },
    "tags": []
   },
   "outputs": [],
   "source": [
    "# import os\n",
    "# import pandas as pd\n",
    "# from torchvision.io import read_image\n",
    "# from torchvision.transforms.functional import to_pil_image\n",
    "\n",
    "# def submit(model_name):\n",
    "#     model = torch.hub.load('pytorch/vision:v0.13.0', model_name, weights='IMAGENET1K_V1')\n",
    "#     model = model.to(device)\n",
    "    \n",
    "#     # Load the trained model\n",
    "#     model.load_state_dict(torch.load(f'{model_name}_best_model.pth'))\n",
    "#     model.eval()\n",
    "\n",
    "#     # Inference\n",
    "#     file_indices = []\n",
    "#     classes = []\n",
    "\n",
    "#     test_folder = '/kaggle/input/datasaur-test/test'\n",
    "#     test_images = [f for f in os.listdir(test_folder) if f.endswith('.jpeg')]\n",
    "\n",
    "#     for image_name in tqdm(test_images, desc=\"Inference\"):\n",
    "#         image_path = os.path.join(test_folder, image_name)\n",
    "\n",
    "#         # Load image and preprocess\n",
    "#         image = to_pil_image(read_image(image_path))\n",
    "#         image = transform(image).unsqueeze(0).to(device)\n",
    "\n",
    "#         # Predict\n",
    "#         with torch.no_grad():\n",
    "#             output = model(image)\n",
    "#             pred = output.argmax(dim=1).item()\n",
    "\n",
    "#         # Store results\n",
    "#         file_index = image_name.split('.jpeg')[0]\n",
    "#         file_indices.append(file_index)\n",
    "#         classes.append(pred)\n",
    "\n",
    "#     # Create DataFrame and save to CSV\n",
    "#     submission_df = pd.DataFrame({\n",
    "#         'file_index': file_indices,\n",
    "#         'class': classes\n",
    "#     })\n",
    "\n",
    "#     submission_df.to_csv(f'{model_name}_submission.csv', index=False)\n",
    "#     print(\"Saved predictions to submission.csv\")\n"
   ]
  },
  {
   "cell_type": "code",
   "execution_count": 9,
   "id": "ca48b152",
   "metadata": {
    "execution": {
     "iopub.execute_input": "2023-10-15T04:30:05.774156Z",
     "iopub.status.busy": "2023-10-15T04:30:05.773643Z",
     "iopub.status.idle": "2023-10-15T04:30:05.778729Z",
     "shell.execute_reply": "2023-10-15T04:30:05.777702Z"
    },
    "id": "ZS-nrOSg32j3",
    "papermill": {
     "duration": 2.028715,
     "end_time": "2023-10-15T04:30:05.780608",
     "exception": false,
     "start_time": "2023-10-15T04:30:03.751893",
     "status": "completed"
    },
    "tags": []
   },
   "outputs": [],
   "source": [
    "# for model_name in models:\n",
    "#     torch.cuda.empty_cache()\n",
    "#     submit(model_name)"
   ]
  }
 ],
 "metadata": {
  "kernelspec": {
   "display_name": "Python 3",
   "language": "python",
   "name": "python3"
  },
  "language_info": {
   "codemirror_mode": {
    "name": "ipython",
    "version": 3
   },
   "file_extension": ".py",
   "mimetype": "text/x-python",
   "name": "python",
   "nbconvert_exporter": "python",
   "pygments_lexer": "ipython3",
   "version": "3.10.12"
  },
  "papermill": {
   "default_parameters": {},
   "duration": 11542.115222,
   "end_time": "2023-10-15T04:30:09.887923",
   "environment_variables": {},
   "exception": null,
   "input_path": "__notebook__.ipynb",
   "output_path": "__notebook__.ipynb",
   "parameters": {},
   "start_time": "2023-10-15T01:17:47.772701",
   "version": "2.4.0"
  }
 },
 "nbformat": 4,
 "nbformat_minor": 5
}
